{
 "cells": [
  {
   "cell_type": "code",
   "execution_count": null,
   "metadata": {
    "collapsed": true
   },
   "outputs": [],
   "source": []
  },
  {
   "cell_type": "code",
   "execution_count": 1,
   "metadata": {
    "collapsed": true
   },
   "outputs": [],
   "source": [
    "import tushare as ts\n",
    "import pandas as pd\n",
    "from datetime import datetime\n",
    "import os.path\n",
    "import time\n",
    "import numpy as np"
   ]
  },
  {
   "cell_type": "code",
   "execution_count": 2,
   "metadata": {
    "collapsed": true
   },
   "outputs": [],
   "source": [
    "def get_data(dataType, year, q=4): #年报\n",
    "    typeAll = {'profit', 'report', 'growth'}\n",
    "    if (dataType not in typeAll):\n",
    "        print('%s not in %s' %(type, typeAll,))\n",
    "        return\n",
    "    saveFileName = './data/%s%02d%s.csv' % (year,q, dataType)\n",
    "    if os.path.isfile(saveFileName):\n",
    "        df = pd.read_csv(saveFileName)#, encoding='gb18030')\n",
    "        return df\n",
    "    fun = eval('ts.get_%s_data' % dataType)\n",
    "    df = fun(year, q)\n",
    "    df.to_csv(saveFileName, index=False, encoding='utf-8')\n",
    "    return df"
   ]
  },
  {
   "cell_type": "code",
   "execution_count": 17,
   "metadata": {},
   "outputs": [
    {
     "name": "stdout",
     "output_type": "stream",
     "text": [
      "[Getting data:]###########################################################"
     ]
    }
   ],
   "source": [
    "df2016 = get_data('report', 2016)"
   ]
  },
  {
   "cell_type": "code",
   "execution_count": 15,
   "metadata": {
    "collapsed": true
   },
   "outputs": [],
   "source": [
    "df2015 = get_data('report', 2015)"
   ]
  },
  {
   "cell_type": "code",
   "execution_count": 18,
   "metadata": {},
   "outputs": [
    {
     "data": {
      "text/html": [
       "<div>\n",
       "<style>\n",
       "    .dataframe thead tr:only-child th {\n",
       "        text-align: right;\n",
       "    }\n",
       "\n",
       "    .dataframe thead th {\n",
       "        text-align: left;\n",
       "    }\n",
       "\n",
       "    .dataframe tbody tr th {\n",
       "        vertical-align: top;\n",
       "    }\n",
       "</style>\n",
       "<table border=\"1\" class=\"dataframe\">\n",
       "  <thead>\n",
       "    <tr style=\"text-align: right;\">\n",
       "      <th></th>\n",
       "      <th>code</th>\n",
       "      <th>name</th>\n",
       "      <th>eps</th>\n",
       "      <th>eps_yoy</th>\n",
       "      <th>bvps</th>\n",
       "      <th>roe</th>\n",
       "      <th>epcf</th>\n",
       "      <th>net_profits</th>\n",
       "      <th>profits_yoy</th>\n",
       "      <th>distrib</th>\n",
       "      <th>report_date</th>\n",
       "    </tr>\n",
       "  </thead>\n",
       "  <tbody>\n",
       "    <tr>\n",
       "      <th>945</th>\n",
       "      <td>002078</td>\n",
       "      <td>太阳纸业</td>\n",
       "      <td>0.42</td>\n",
       "      <td>55.56</td>\n",
       "      <td>NaN</td>\n",
       "      <td>14.12</td>\n",
       "      <td>NaN</td>\n",
       "      <td>105676.18</td>\n",
       "      <td>58.52</td>\n",
       "      <td>10派0.5</td>\n",
       "      <td>04-25</td>\n",
       "    </tr>\n",
       "    <tr>\n",
       "      <th>1718</th>\n",
       "      <td>002300</td>\n",
       "      <td>太阳电缆</td>\n",
       "      <td>0.29</td>\n",
       "      <td>-28.45</td>\n",
       "      <td>NaN</td>\n",
       "      <td>11.85</td>\n",
       "      <td>NaN</td>\n",
       "      <td>15533.08</td>\n",
       "      <td>-14.23</td>\n",
       "      <td>10派2.1</td>\n",
       "      <td>04-13</td>\n",
       "    </tr>\n",
       "    <tr>\n",
       "      <th>2559</th>\n",
       "      <td>000525</td>\n",
       "      <td>红太阳</td>\n",
       "      <td>0.22</td>\n",
       "      <td>-38.16</td>\n",
       "      <td>NaN</td>\n",
       "      <td>2.70</td>\n",
       "      <td>NaN</td>\n",
       "      <td>12641.31</td>\n",
       "      <td>-30.52</td>\n",
       "      <td>10派3</td>\n",
       "      <td>03-28</td>\n",
       "    </tr>\n",
       "    <tr>\n",
       "      <th>2971</th>\n",
       "      <td>000591</td>\n",
       "      <td>太阳能</td>\n",
       "      <td>0.53</td>\n",
       "      <td>-19.23</td>\n",
       "      <td>NaN</td>\n",
       "      <td>6.92</td>\n",
       "      <td>NaN</td>\n",
       "      <td>65324.93</td>\n",
       "      <td>38.18</td>\n",
       "      <td>10派0.52送2转10</td>\n",
       "      <td>03-18</td>\n",
       "    </tr>\n",
       "    <tr>\n",
       "      <th>3460</th>\n",
       "      <td>300606</td>\n",
       "      <td>金太阳</td>\n",
       "      <td>0.60</td>\n",
       "      <td>23.66</td>\n",
       "      <td>3.63</td>\n",
       "      <td>18.07</td>\n",
       "      <td>0.78</td>\n",
       "      <td>4020.83</td>\n",
       "      <td>23.87</td>\n",
       "      <td>NaN</td>\n",
       "      <td>02-07</td>\n",
       "    </tr>\n",
       "  </tbody>\n",
       "</table>\n",
       "</div>"
      ],
      "text/plain": [
       "        code  name   eps  eps_yoy  bvps    roe  epcf  net_profits  \\\n",
       "945   002078  太阳纸业  0.42    55.56   NaN  14.12   NaN    105676.18   \n",
       "1718  002300  太阳电缆  0.29   -28.45   NaN  11.85   NaN     15533.08   \n",
       "2559  000525   红太阳  0.22   -38.16   NaN   2.70   NaN     12641.31   \n",
       "2971  000591   太阳能  0.53   -19.23   NaN   6.92   NaN     65324.93   \n",
       "3460  300606   金太阳  0.60    23.66  3.63  18.07  0.78      4020.83   \n",
       "\n",
       "      profits_yoy       distrib report_date  \n",
       "945         58.52        10派0.5       04-25  \n",
       "1718       -14.23        10派2.1       04-13  \n",
       "2559       -30.52          10派3       03-28  \n",
       "2971        38.18  10派0.52送2转10       03-18  \n",
       "3460        23.87           NaN       02-07  "
      ]
     },
     "execution_count": 18,
     "metadata": {},
     "output_type": "execute_result"
    }
   ],
   "source": [
    "df2016[df2016['name'].str.contains('太阳')]"
   ]
  },
  {
   "cell_type": "code",
   "execution_count": 10,
   "metadata": {},
   "outputs": [
    {
     "data": {
      "text/plain": [
       "3484"
      ]
     },
     "execution_count": 10,
     "metadata": {},
     "output_type": "execute_result"
    }
   ],
   "source": [
    "87*40+4"
   ]
  },
  {
   "cell_type": "code",
   "execution_count": null,
   "metadata": {
    "collapsed": true
   },
   "outputs": [],
   "source": []
  }
 ],
 "metadata": {
  "kernelspec": {
   "display_name": "Python 3",
   "language": "python",
   "name": "python3"
  },
  "language_info": {
   "codemirror_mode": {
    "name": "ipython",
    "version": 3
   },
   "file_extension": ".py",
   "mimetype": "text/x-python",
   "name": "python",
   "nbconvert_exporter": "python",
   "pygments_lexer": "ipython3",
   "version": "3.6.3"
  }
 },
 "nbformat": 4,
 "nbformat_minor": 2
}
