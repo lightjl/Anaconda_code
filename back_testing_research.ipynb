{
 "cells": [
  {
   "cell_type": "code",
   "execution_count": 2,
   "metadata": {},
   "outputs": [],
   "source": [
    "from importlib import reload\n",
    "import MyStock as ms\n",
    "from datetime import datetime as dt\n",
    "\n",
    "reload(ms)\n",
    "test = ms.MyStock()\n",
    "d = dt(2014,2,1)\n",
    "test.ChangeYearEnd(d.strftime('%Y'))"
   ]
  },
  {
   "cell_type": "code",
   "execution_count": 3,
   "metadata": {},
   "outputs": [],
   "source": [
    "test.BackTesting(d)"
   ]
  },
  {
   "cell_type": "code",
   "execution_count": 13,
   "metadata": {},
   "outputs": [
    {
     "data": {
      "text/html": [
       "<div>\n",
       "<style>\n",
       "    .dataframe thead tr:only-child th {\n",
       "        text-align: right;\n",
       "    }\n",
       "\n",
       "    .dataframe thead th {\n",
       "        text-align: left;\n",
       "    }\n",
       "\n",
       "    .dataframe tbody tr th {\n",
       "        vertical-align: top;\n",
       "    }\n",
       "</style>\n",
       "<table border=\"1\" class=\"dataframe\">\n",
       "  <thead>\n",
       "    <tr style=\"text-align: right;\">\n",
       "      <th></th>\n",
       "      <th>code</th>\n",
       "      <th>name0</th>\n",
       "      <th>rec_report_date</th>\n",
       "      <th>nprg0</th>\n",
       "      <th>nprg1</th>\n",
       "      <th>nprg2</th>\n",
       "      <th>nprg3</th>\n",
       "      <th>nprg4</th>\n",
       "      <th>eps3</th>\n",
       "      <th>eps4</th>\n",
       "      <th>nprg_ondate</th>\n",
       "      <th>eps_ondate</th>\n",
       "    </tr>\n",
       "  </thead>\n",
       "  <tbody>\n",
       "    <tr>\n",
       "      <th>647</th>\n",
       "      <td>002144</td>\n",
       "      <td>宏达高科</td>\n",
       "      <td>2014-04-22</td>\n",
       "      <td>57.2642</td>\n",
       "      <td>254.3915</td>\n",
       "      <td>75.0338</td>\n",
       "      <td>63.2847</td>\n",
       "      <td>-29.4365</td>\n",
       "      <td>0.76</td>\n",
       "      <td>0.48</td>\n",
       "      <td>63.2847</td>\n",
       "      <td>0.76</td>\n",
       "    </tr>\n",
       "  </tbody>\n",
       "</table>\n",
       "</div>"
      ],
      "text/plain": [
       "       code name0 rec_report_date    nprg0     nprg1    nprg2    nprg3  \\\n",
       "647  002144  宏达高科      2014-04-22  57.2642  254.3915  75.0338  63.2847   \n",
       "\n",
       "       nprg4  eps3  eps4  nprg_ondate  eps_ondate  \n",
       "647 -29.4365  0.76  0.48      63.2847        0.76  "
      ]
     },
     "execution_count": 13,
     "metadata": {},
     "output_type": "execute_result"
    }
   ],
   "source": [
    "test.universe[test.universe.code == '002144']"
   ]
  },
  {
   "cell_type": "code",
   "execution_count": 17,
   "metadata": {},
   "outputs": [
    {
     "data": {
      "text/html": [
       "<div>\n",
       "<style>\n",
       "    .dataframe thead tr:only-child th {\n",
       "        text-align: right;\n",
       "    }\n",
       "\n",
       "    .dataframe thead th {\n",
       "        text-align: left;\n",
       "    }\n",
       "\n",
       "    .dataframe tbody tr th {\n",
       "        vertical-align: top;\n",
       "    }\n",
       "</style>\n",
       "<table border=\"1\" class=\"dataframe\">\n",
       "  <thead>\n",
       "    <tr style=\"text-align: right;\">\n",
       "      <th></th>\n",
       "      <th>code</th>\n",
       "      <th>name0</th>\n",
       "      <th>rec_report_date</th>\n",
       "      <th>nprg0</th>\n",
       "      <th>nprg1</th>\n",
       "      <th>nprg2</th>\n",
       "      <th>nprg3</th>\n",
       "      <th>nprg4</th>\n",
       "      <th>eps3</th>\n",
       "      <th>eps4</th>\n",
       "    </tr>\n",
       "  </thead>\n",
       "  <tbody>\n",
       "    <tr>\n",
       "      <th>251</th>\n",
       "      <td>002344</td>\n",
       "      <td>海宁皮城</td>\n",
       "      <td>2015-03-27</td>\n",
       "      <td>154.8727</td>\n",
       "      <td>124.845</td>\n",
       "      <td>28.2025</td>\n",
       "      <td>45.2628</td>\n",
       "      <td>-8.7712</td>\n",
       "      <td>0.93</td>\n",
       "      <td>0.84</td>\n",
       "    </tr>\n",
       "  </tbody>\n",
       "</table>\n",
       "</div>"
      ],
      "text/plain": [
       "       code name0 rec_report_date     nprg0    nprg1    nprg2    nprg3  \\\n",
       "251  002344  海宁皮城      2015-03-27  154.8727  124.845  28.2025  45.2628   \n",
       "\n",
       "      nprg4  eps3  eps4  \n",
       "251 -8.7712  0.93  0.84  "
      ]
     },
     "execution_count": 17,
     "metadata": {},
     "output_type": "execute_result"
    }
   ],
   "source": [
    "y = 2015\n",
    "m = 3\n",
    "day = 27\n",
    "code = '002344'\n",
    "d = dt(y,m,day)\n",
    "test.BackTesting(d)\n",
    "test.stock[['code', 'name0', 'rec_report_date'] + ['nprg' + str(i) for i in range(5)] + ['eps3', 'eps4']] [test.stock.code == code]"
   ]
  },
  {
   "cell_type": "code",
   "execution_count": null,
   "metadata": {},
   "outputs": [],
   "source": []
  }
 ],
 "metadata": {
  "kernelspec": {
   "display_name": "Python 3",
   "language": "python",
   "name": "python3"
  },
  "language_info": {
   "codemirror_mode": {
    "name": "ipython",
    "version": 3
   },
   "file_extension": ".py",
   "mimetype": "text/x-python",
   "name": "python",
   "nbconvert_exporter": "python",
   "pygments_lexer": "ipython3",
   "version": "3.6.4"
  }
 },
 "nbformat": 4,
 "nbformat_minor": 2
}
