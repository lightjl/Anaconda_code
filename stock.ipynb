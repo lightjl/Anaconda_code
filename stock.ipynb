{
 "cells": [
  {
   "cell_type": "code",
   "execution_count": 2,
   "metadata": {},
   "outputs": [],
   "source": [
    "import tushare as ts\n",
    "import pandas as pd\n",
    "from datetime import datetime\n",
    "import os.path\n",
    "import time"
   ]
  },
  {
   "cell_type": "code",
   "execution_count": 3,
   "metadata": {},
   "outputs": [],
   "source": [
    "def update_data_or_not(fileName, year):\n",
    "    import os\n",
    "    yearEnd = datetime.now().year-1  #去年\n",
    "    updateTime = 0\n",
    "    if ((year==yearEnd and datetime.now().month >= 5) or year < yearEnd):\n",
    "        updateTime = 30\n",
    "    else:\n",
    "        updateTime = 1\n",
    "    updateTime = updateTime*24*60*60\n",
    "    finfo = os.stat(fileName)\n",
    "    return(( time.time() - finfo.st_mtime) > updateTime)\n",
    "    "
   ]
  },
  {
   "cell_type": "code",
   "execution_count": 77,
   "metadata": {},
   "outputs": [],
   "source": [
    "def get_data(dataType, year, q=4): #年报\n",
    "    typeAll = {'profit', 'report', 'growth'}\n",
    "    if (dataType not in typeAll):\n",
    "        print('%s not in %s' %(type, typeAll,))\n",
    "        return\n",
    "    saveFileName = './data/%s%02d%s.csv' % (year,q, dataType)\n",
    "    if os.path.isfile(saveFileName):\n",
    "        df = pd.read_csv(saveFileName)#, encoding='gb18030')\n",
    "        return df\n",
    "    fun = eval('ts.get_%s_data' % dataType)\n",
    "    df = fun(year, q)\n",
    "    df.to_csv(saveFileName, index=False, encoding='utf-8')\n",
    "    return df\n"
   ]
  },
  {
   "cell_type": "code",
   "execution_count": 5,
   "metadata": {},
   "outputs": [
    {
     "data": {
      "text/plain": [
       "False"
      ]
     },
     "execution_count": 5,
     "metadata": {},
     "output_type": "execute_result"
    }
   ],
   "source": [
    "year = 2017\n",
    "saveFileName = './data/%s%02d%s.csv' % (year,4, 'report')\n",
    "update_data_or_not(saveFileName, year)"
   ]
  },
  {
   "cell_type": "code",
   "execution_count": 95,
   "metadata": {},
   "outputs": [],
   "source": [
    "dfs = {'profit':{}, 'report':{}, 'growth':{}}\n",
    "types = {'profit', 'report', 'growth'}\n",
    "for t in types:\n",
    "    for y in range(yearEnd-5, yearEnd):\n",
    "        dfs[t][y] = get_data(t, y).rename(columns={i: i+str(y) for i in get_data(t, y).columns if i not in {'code'}})\n",
    "#         \n",
    "#             "
   ]
  },
  {
   "cell_type": "code",
   "execution_count": 96,
   "metadata": {},
   "outputs": [],
   "source": [
    "dfs_growth = pd.DataFrame(columns=['code'])\n",
    "for i in range(yearEnd-5, yearEnd):\n",
    "    dfs_growth = dfs_growth.merge(dfs['growth'][i], on=['code'], how='outer')\n",
    "\n",
    "# dfs['profit'][2013].merge(dfs['profit'][2014], on=['code', 'name'], how='outer')"
   ]
  },
  {
   "cell_type": "code",
   "execution_count": 84,
   "metadata": {},
   "outputs": [
    {
     "data": {
      "text/plain": [
       "Index(['code', 'name2013', 'mbrg2013', 'nprg2013', 'nav2013', 'targ2013',\n",
       "       'epsg2013', 'seg2013', 'name2014', 'mbrg2014', 'nprg2014', 'nav2014',\n",
       "       'targ2014', 'epsg2014', 'seg2014', 'name2015', 'mbrg2015', 'nprg2015',\n",
       "       'nav2015', 'targ2015', 'epsg2015', 'seg2015', 'name2016', 'mbrg2016',\n",
       "       'nprg2016', 'nav2016', 'targ2016', 'epsg2016', 'seg2016', 'name2017',\n",
       "       'mbrg2017', 'nprg2017', 'nav2017', 'targ2017', 'epsg2017', 'seg2017'],\n",
       "      dtype='object')"
      ]
     },
     "execution_count": 84,
     "metadata": {},
     "output_type": "execute_result"
    }
   ],
   "source": [
    "dfs_growth.columns"
   ]
  },
  {
   "cell_type": "code",
   "execution_count": 101,
   "metadata": {},
   "outputs": [
    {
     "data": {
      "text/plain": [
       "15       新雷能\n",
       "89       奥佳华\n",
       "98      荣泰健康\n",
       "110     中国西电\n",
       "127     通化东宝\n",
       "132     万安科技\n",
       "156     安信信托\n",
       "175     阳光电源\n",
       "202     银轮股份\n",
       "203     网宿科技\n",
       "207     亿帆医药\n",
       "236     象屿股份\n",
       "265     再升科技\n",
       "266     京新药业\n",
       "268     九鼎投资\n",
       "293     东方雨虹\n",
       "346     中通客车\n",
       "364     清新环境\n",
       "365     华懋科技\n",
       "394     透景生命\n",
       "404     富临精工\n",
       "419     普利制药\n",
       "420     美晨生态\n",
       "430     传艺科技\n",
       "463     视源股份\n",
       "483      康得新\n",
       "511     盛弘股份\n",
       "514     迪安诊断\n",
       "515     泛海控股\n",
       "542     常山北明\n",
       "548     卫宁健康\n",
       "594     新华制药\n",
       "605     太阳纸业\n",
       "612     益丰药房\n",
       "622     老板电器\n",
       "625      索菲亚\n",
       "626     海康威视\n",
       "677     中南文化\n",
       "686     鹿港文化\n",
       "698     延江股份\n",
       "715      利亚德\n",
       "720     刚泰控股\n",
       "761      和而泰\n",
       "783     阳谷华泰\n",
       "795     洁美科技\n",
       "807     捷成股份\n",
       "877     瑞康医药\n",
       "880     东方网力\n",
       "889     捷顺科技\n",
       "905     安图生物\n",
       "938     中航光电\n",
       "950     东方国信\n",
       "967     尔康制药\n",
       "1005    小天鹅A\n",
       "1010    中京电子\n",
       "Name: name2016, dtype: object"
      ]
     },
     "execution_count": 101,
     "metadata": {},
     "output_type": "execute_result"
    }
   ],
   "source": [
    "\n",
    "dfs_growth['code', 'name2016'][(dfs_growth.nprg2013>25)&(dfs_growth.nprg2014>25)\\\n",
    "           &(dfs_growth.nprg2015>25)&(dfs_growth.nprg2016>25)]"
   ]
  },
  {
   "cell_type": "code",
   "execution_count": 8,
   "metadata": {},
   "outputs": [
    {
     "name": "stdout",
     "output_type": "stream",
     "text": [
      "Public IP:58.248.36.30\n"
     ]
    }
   ],
   "source": [
    "import requests  \n",
    "import re  \n",
    "__author__ = '10'  \n",
    "url = \"http://cn.bing.com/search?q=ip&go=%E6%8F%90%E4%BA%A4&qs=n&form=QBLH&pq=ip&sc=8-2&sp=-1&sk=&cvid=14b93b305cdc4183875411c3d9edf938\"  \n",
    "html = requests.get(url).text\n",
    "#print html  \n",
    "html_re = re.compile(r'本机 ip: (.+?) ',re.DOTALL)  \n",
    "for x in html_re.findall(html):  \n",
    "    print(\"Public IP:\" + x )"
   ]
  },
  {
   "cell_type": "code",
   "execution_count": 64,
   "metadata": {},
   "outputs": [],
   "source": [
    "test = {'a', 'b'}"
   ]
  },
  {
   "cell_type": "code",
   "execution_count": 69,
   "metadata": {},
   "outputs": [
    {
     "data": {
      "text/plain": [
       "False"
      ]
     },
     "execution_count": 69,
     "metadata": {},
     "output_type": "execute_result"
    }
   ],
   "source": [
    "'c' in test"
   ]
  },
  {
   "cell_type": "code",
   "execution_count": null,
   "metadata": {},
   "outputs": [],
   "source": []
  }
 ],
 "metadata": {
  "kernelspec": {
   "display_name": "Python 3",
   "language": "python",
   "name": "python3"
  },
  "language_info": {
   "codemirror_mode": {
    "name": "ipython",
    "version": 3
   },
   "file_extension": ".py",
   "mimetype": "text/x-python",
   "name": "python",
   "nbconvert_exporter": "python",
   "pygments_lexer": "ipython3",
   "version": "3.5.2"
  }
 },
 "nbformat": 4,
 "nbformat_minor": 2
}
