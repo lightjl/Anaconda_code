{
 "cells": [
  {
   "cell_type": "code",
   "execution_count": null,
   "metadata": {
    "collapsed": true
   },
   "outputs": [],
   "source": [
    "import tushare as ts\n",
    "import pandas as pd\n",
    "from datetime import datetime\n",
    "import os.path\n",
    "import time\n",
    "import numpy as np"
   ]
  },
  {
   "cell_type": "code",
   "execution_count": null,
   "metadata": {
    "collapsed": true
   },
   "outputs": [],
   "source": [
    "def update_data_or_not(fileName, year):\n",
    "    import os\n",
    "    yearEnd = datetime.now().year-1  #去年\n",
    "    updateTime = 0\n",
    "    if ((year==yearEnd and datetime.now().month >= 5) or year < yearEnd):\n",
    "        updateTime = 30\n",
    "    else:\n",
    "        updateTime = 1\n",
    "    updateTime = updateTime*24*60*60\n",
    "    finfo = os.stat(fileName)\n",
    "    return(( time.time() - finfo.st_mtime) > updateTime)\n",
    "    "
   ]
  },
  {
   "cell_type": "code",
   "execution_count": null,
   "metadata": {
    "collapsed": true
   },
   "outputs": [],
   "source": [
    "def get_data(dataType, year, q=4): #年报\n",
    "    typeAll = {'profit', 'report', 'growth'}\n",
    "    if (dataType not in typeAll):\n",
    "        print('%s not in %s' %(type, typeAll,))\n",
    "        return\n",
    "    saveFileName = './data/%s%02d%s.csv' % (year,q, dataType)\n",
    "    if os.path.isfile(saveFileName):\n",
    "        df = pd.read_csv(saveFileName)#, encoding='gb18030')\n",
    "        return df\n",
    "    fun = eval('ts.get_%s_data' % dataType)\n",
    "    df = fun(year, q)\n",
    "    df.to_csv(saveFileName, index=False, encoding='utf-8')\n",
    "    return df\n"
   ]
  },
  {
   "cell_type": "code",
   "execution_count": null,
   "metadata": {},
   "outputs": [],
   "source": [
    "year = 2017\n",
    "saveFileName = './data/%s%02d%s.csv' % (year,4, 'report')\n",
    "update_data_or_not(saveFileName, year)"
   ]
  },
  {
   "cell_type": "code",
   "execution_count": null,
   "metadata": {
    "collapsed": true
   },
   "outputs": [],
   "source": [
    "dfs = {'profit':{}, 'report':{}, 'growth':{}}\n",
    "types = {'profit', 'report', 'growth'}\n",
    "for t in types:\n",
    "    for y in range(yearEnd-5, yearEnd):\n",
    "        dfs[t][y] = get_data(t, y).rename(columns={i: i+str(y-yearEnd+5) for i in get_data(t, y).columns if i not in {'code'}})\n",
    "        dfs[t][y]['code'] = dfs[t][y]['code'].apply(lambda x: '%06d' % x)\n",
    "#         \n",
    "#             "
   ]
  },
  {
   "cell_type": "code",
   "execution_count": null,
   "metadata": {
    "collapsed": true
   },
   "outputs": [],
   "source": [
    "dfs_growth = pd.DataFrame(columns=['code'])\n",
    "for i in range(yearEnd-5, yearEnd):\n",
    "    dfs_growth = dfs_growth.merge(dfs['growth'][i], on=['code'], how='outer')\n",
    "\n",
    "# dfs['profit'][2013].merge(dfs['profit'][2014], on=['code', 'name'], how='outer')"
   ]
  },
  {
   "cell_type": "code",
   "execution_count": null,
   "metadata": {},
   "outputs": [],
   "source": [
    "\n",
    "dfs_growth[['code', 'name3']+['nprg'+str(i) for i in range(4)]][(dfs_growth.nprg0>25)&(dfs_growth.nprg1>25)\\\n",
    "           &(dfs_growth.nprg2>25)&(dfs_growth.nprg3>25)]"
   ]
  },
  {
   "cell_type": "code",
   "execution_count": null,
   "metadata": {},
   "outputs": [],
   "source": [
    "dfs_report = pd.DataFrame(columns=['code'])\n",
    "for i in range(yearEnd-2, yearEnd):\n",
    "    dfs_report = dfs_report.merge(dfs['report'][i], on=['code'], how='outer')\n",
    "dfs_report\n",
    "# dfs['profit'][2013].merge(dfs['profit'][2014], on=['code', 'name'], how='outer')"
   ]
  },
  {
   "cell_type": "code",
   "execution_count": null,
   "metadata": {},
   "outputs": [],
   "source": [
    "dfs_report['eps'] = dfs_report.apply(lambda x: x['eps3'] if pd.isnull(x['eps4']) else x['eps4'], axis=1)"
   ]
  },
  {
   "cell_type": "code",
   "execution_count": null,
   "metadata": {},
   "outputs": [],
   "source": [
    "dfs_growth[['nprg'+str(i) for i in range(5)]][(dfs_growth.code == '002078')&(dfs_growth.nprg0>25)&(dfs_growth.nprg1>25)\\\n",
    "           &(dfs_growth.nprg2>25)&(dfs_growth.nprg3>25)]"
   ]
  },
  {
   "cell_type": "code",
   "execution_count": null,
   "metadata": {},
   "outputs": [],
   "source": [
    "stockGDF = dfs_growth[(dfs_growth.nprg0>25)&(dfs_growth.nprg1>25)\\\n",
    "           &(dfs_growth.nprg2>25)&(dfs_growth.nprg3>25)]\n"
   ]
  },
  {
   "cell_type": "code",
   "execution_count": null,
   "metadata": {},
   "outputs": [],
   "source": [
    "stockGDF"
   ]
  },
  {
   "cell_type": "code",
   "execution_count": null,
   "metadata": {},
   "outputs": [],
   "source": [
    "price = ts.get_realtime_quotes(stockGDF['code'])"
   ]
  },
  {
   "cell_type": "code",
   "execution_count": null,
   "metadata": {},
   "outputs": [],
   "source": [
    "def real_price(x, y):\n",
    "    return x if x > 0 else y\n",
    "\n",
    "\n",
    "price['price'] = price['price'].astype(float)\n",
    "price['pre_close'] = price['pre_close'].astype(float)\n",
    "price['price_real'] = price.apply(lambda x: real_price(x['price'], x['pre_close']), axis=1)\n",
    "#price['price_true'] = map(lambda x, y : , price['price'].astype(float), price['pre_close'].astype(float))\n",
    "#price = price.drop(['price_true'], axis=1)"
   ]
  },
  {
   "cell_type": "code",
   "execution_count": null,
   "metadata": {
    "collapsed": true
   },
   "outputs": [],
   "source": [
    "df_basics = ts.get_stock_basics()"
   ]
  },
  {
   "cell_type": "code",
   "execution_count": null,
   "metadata": {},
   "outputs": [],
   "source": [
    "df_basics.columns"
   ]
  },
  {
   "cell_type": "code",
   "execution_count": null,
   "metadata": {},
   "outputs": [],
   "source": [
    "stockGDF = stockGDF.merge(df_basics, left_on='code', right_index=True)"
   ]
  },
  {
   "cell_type": "code",
   "execution_count": null,
   "metadata": {},
   "outputs": [],
   "source": [
    "stockGDF = stockGDF.drop(['pe', 'peg'], axis=1)"
   ]
  },
  {
   "cell_type": "code",
   "execution_count": null,
   "metadata": {
    "collapsed": true
   },
   "outputs": [],
   "source": [
    "stockGDF = stockGDF.merge(price, on='code')\n",
    "stockGDF = stockGDF.merge(dfs_report, on='code')\n"
   ]
  },
  {
   "cell_type": "code",
   "execution_count": null,
   "metadata": {
    "collapsed": true
   },
   "outputs": [],
   "source": [
    "stockGDF['nprg'] = stockGDF.apply(lambda x: x['nprg3'] if pd.isnull(x['nprg4']) else x['nprg4'], axis=1)"
   ]
  },
  {
   "cell_type": "code",
   "execution_count": null,
   "metadata": {},
   "outputs": [],
   "source": [
    "stockGDF[['code', 'name_x','peg', 'pe', 'eps', 'nprg', 'price_real'] + ['nprg'+str(i) for i in range(5)]][stockGDF.peg < 0.4]"
   ]
  },
  {
   "cell_type": "code",
   "execution_count": null,
   "metadata": {},
   "outputs": [],
   "source": [
    "\n",
    "stockGDF['peg'] = round(stockGDF['pe']/stockGDF['nprg'],2)"
   ]
  },
  {
   "cell_type": "code",
   "execution_count": null,
   "metadata": {},
   "outputs": [],
   "source": [
    "stockGDF.columns"
   ]
  },
  {
   "cell_type": "code",
   "execution_count": null,
   "metadata": {},
   "outputs": [],
   "source": [
    "import requests  \n",
    "import re  \n",
    "__author__ = '10'  \n",
    "url = \"http://cn.bing.com/search?q=ip&go=%E6%8F%90%E4%BA%A4&qs=n&form=QBLH&pq=ip&sc=8-2&sp=-1&sk=&cvid=14b93b305cdc4183875411c3d9edf938\"  \n",
    "html = requests.get(url).text\n",
    "#print html  \n",
    "html_re = re.compile(r'本机 ip: (.+?) ',re.DOTALL)  \n",
    "for x in html_re.findall(html):  \n",
    "    print(\"Public IP:\" + x )"
   ]
  },
  {
   "cell_type": "code",
   "execution_count": null,
   "metadata": {
    "collapsed": true
   },
   "outputs": [],
   "source": [
    "test = {'a', 'b'}"
   ]
  },
  {
   "cell_type": "code",
   "execution_count": null,
   "metadata": {},
   "outputs": [],
   "source": [
    "'c' in test"
   ]
  },
  {
   "cell_type": "code",
   "execution_count": null,
   "metadata": {
    "collapsed": true
   },
   "outputs": [],
   "source": []
  }
 ],
 "metadata": {
  "kernelspec": {
   "display_name": "Python 3",
   "language": "python",
   "name": "python3"
  },
  "language_info": {
   "codemirror_mode": {
    "name": "ipython",
    "version": 3
   },
   "file_extension": ".py",
   "mimetype": "text/x-python",
   "name": "python",
   "nbconvert_exporter": "python",
   "pygments_lexer": "ipython3",
   "version": "3.6.4"
  }
 },
 "nbformat": 4,
 "nbformat_minor": 2
}
