{
 "cells": [
  {
   "cell_type": "code",
   "execution_count": 93,
   "metadata": {
    "collapsed": true
   },
   "outputs": [],
   "source": [
    "import tushare as ts\n",
    "import pandas as pd\n",
    "from datetime import datetime\n",
    "import os.path\n",
    "import time\n",
    "import numpy as np"
   ]
  },
  {
   "cell_type": "code",
   "execution_count": 94,
   "metadata": {
    "collapsed": true
   },
   "outputs": [],
   "source": [
    "def update_data_or_not(fileName, year):\n",
    "    import os\n",
    "    yearEnd = datetime.now().year-1  #去年\n",
    "    updateTime = 0\n",
    "    if ((year==yearEnd and datetime.now().month >= 5) or year < yearEnd):\n",
    "        updateTime = 30\n",
    "    else:\n",
    "        updateTime = 1\n",
    "    updateTime = updateTime*24*60*60\n",
    "    finfo = os.stat(fileName)\n",
    "    return(( time.time() - finfo.st_mtime) > updateTime)\n",
    "    "
   ]
  },
  {
   "cell_type": "code",
   "execution_count": 95,
   "metadata": {
    "collapsed": true
   },
   "outputs": [],
   "source": [
    "def get_data(dataType, year, q=4): #年报\n",
    "    typeAll = {'profit', 'report', 'growth'}\n",
    "    if (dataType not in typeAll):\n",
    "        print('%s not in %s' %(type, typeAll,))\n",
    "        return\n",
    "    saveFileName = './data/%s%02d%s.csv' % (year,q, dataType)\n",
    "    if os.path.isfile(saveFileName):\n",
    "        df = pd.read_csv(saveFileName)#, encoding='gb18030')\n",
    "        return df\n",
    "    fun = eval('ts.get_%s_data' % dataType)\n",
    "    df = fun(year, q)\n",
    "    df.to_csv(saveFileName, index=False, encoding='utf-8')\n",
    "    return df\n"
   ]
  },
  {
   "cell_type": "code",
   "execution_count": 96,
   "metadata": {
    "collapsed": true
   },
   "outputs": [],
   "source": [
    "dfs = {'profit':{}, 'report':{}, 'growth':{}}\n",
    "types = {'profit', 'report', 'growth'}\n",
    "yearEnd = datetime.now().year  #去年\n",
    "for t in types:\n",
    "    for y in range(yearEnd-5, yearEnd):\n",
    "        dfs[t][y] = get_data(t, y).rename(columns={i: i+str(y-yearEnd+5) for i in get_data(t, y).columns if i not in {'code'}})\n",
    "        #dfs[t][y]['code'] = dfs[t][y]['code'].astype(int)\n",
    "        dfs[t][y]['code'] = dfs[t][y]['code'].apply(lambda x: '%06d' % int(x))\n",
    "#         \n",
    "#             "
   ]
  },
  {
   "cell_type": "code",
   "execution_count": 97,
   "metadata": {
    "collapsed": true
   },
   "outputs": [],
   "source": [
    "dfs_growth = pd.DataFrame(columns=['code'])\n",
    "for i in range(yearEnd-5, yearEnd):\n",
    "    dfs_growth = dfs_growth.merge(dfs['growth'][i], on=['code'], how='outer')\n",
    "\n",
    "# dfs['profit'][2013].merge(dfs['profit'][2014], on=['code', 'name'], how='outer')"
   ]
  },
  {
   "cell_type": "code",
   "execution_count": 98,
   "metadata": {
    "collapsed": true
   },
   "outputs": [],
   "source": [
    "stockGDF = dfs_growth[(dfs_growth.nprg0>25)&(dfs_growth.nprg1>25)\\\n",
    "           &(dfs_growth.nprg2>25)&(dfs_growth.nprg3>25)]\n"
   ]
  },
  {
   "cell_type": "code",
   "execution_count": 99,
   "metadata": {
    "collapsed": true
   },
   "outputs": [],
   "source": [
    "price = ts.get_realtime_quotes(stockGDF['code'])\n",
    "def real_price(x, y):\n",
    "    return x if x > 0 else y\n",
    "\n",
    "price['price'] = price['price'].astype(float)\n",
    "price['pre_close'] = price['pre_close'].astype(float)\n",
    "price['price_real'] = price.apply(lambda x: real_price(x['price'], x['pre_close']), axis=1)\n",
    "#price['price_true'] = map(lambda x, y : , price['price'].astype(float), price['pre_close'].astype(float))\n",
    "#price = price.drop(['price_true'], axis=1)"
   ]
  },
  {
   "cell_type": "code",
   "execution_count": 100,
   "metadata": {
    "collapsed": true
   },
   "outputs": [],
   "source": [
    "stockGDF = stockGDF.merge(price, on='code')"
   ]
  },
  {
   "cell_type": "code",
   "execution_count": 101,
   "metadata": {
    "collapsed": true
   },
   "outputs": [],
   "source": [
    "dfs_report = pd.DataFrame(columns=['code'])\n",
    "for i in range(yearEnd-2, yearEnd):\n",
    "    dfs_report = dfs_report.merge(dfs['report'][i], on=['code'], how='outer')\n",
    "# dfs['profit'][2013].merge(dfs['profit'][2014], on=['code', 'name'], how='outer')\n",
    "dfs_report = dfs_report.drop_duplicates()\n",
    "dfs_report['eps'] = dfs_report.apply(lambda x: x['eps3'] if pd.isnull(x['eps4']) else x['eps4'], axis=1)"
   ]
  },
  {
   "cell_type": "code",
   "execution_count": 102,
   "metadata": {
    "collapsed": true
   },
   "outputs": [],
   "source": [
    "\n",
    "stockGDF = stockGDF.merge(dfs_report, on='code', how='left')"
   ]
  },
  {
   "cell_type": "code",
   "execution_count": 103,
   "metadata": {},
   "outputs": [
    {
     "data": {
      "text/html": [
       "<div>\n",
       "<style>\n",
       "    .dataframe thead tr:only-child th {\n",
       "        text-align: right;\n",
       "    }\n",
       "\n",
       "    .dataframe thead th {\n",
       "        text-align: left;\n",
       "    }\n",
       "\n",
       "    .dataframe tbody tr th {\n",
       "        vertical-align: top;\n",
       "    }\n",
       "</style>\n",
       "<table border=\"1\" class=\"dataframe\">\n",
       "  <thead>\n",
       "    <tr style=\"text-align: right;\">\n",
       "      <th></th>\n",
       "      <th>code</th>\n",
       "      <th>name0</th>\n",
       "      <th>mbrg0</th>\n",
       "      <th>nprg0</th>\n",
       "      <th>nav0</th>\n",
       "      <th>targ0</th>\n",
       "      <th>epsg0</th>\n",
       "      <th>seg0</th>\n",
       "      <th>name1</th>\n",
       "      <th>mbrg1</th>\n",
       "      <th>...</th>\n",
       "      <th>eps4</th>\n",
       "      <th>eps_yoy4</th>\n",
       "      <th>bvps4</th>\n",
       "      <th>roe4</th>\n",
       "      <th>epcf4</th>\n",
       "      <th>net_profits4</th>\n",
       "      <th>profits_yoy4</th>\n",
       "      <th>distrib4</th>\n",
       "      <th>report_date4</th>\n",
       "      <th>eps</th>\n",
       "    </tr>\n",
       "  </thead>\n",
       "  <tbody>\n",
       "    <tr>\n",
       "      <th>32</th>\n",
       "      <td>002078</td>\n",
       "      <td>太阳纸业</td>\n",
       "      <td>4.6736</td>\n",
       "      <td>44.983</td>\n",
       "      <td>23.9247</td>\n",
       "      <td>4.7251</td>\n",
       "      <td>44.4444</td>\n",
       "      <td>28.9797</td>\n",
       "      <td>太阳纸业</td>\n",
       "      <td>-4.0129</td>\n",
       "      <td>...</td>\n",
       "      <td>NaN</td>\n",
       "      <td>NaN</td>\n",
       "      <td>NaN</td>\n",
       "      <td>NaN</td>\n",
       "      <td>NaN</td>\n",
       "      <td>NaN</td>\n",
       "      <td>NaN</td>\n",
       "      <td>NaN</td>\n",
       "      <td>NaN</td>\n",
       "      <td>0.42</td>\n",
       "    </tr>\n",
       "  </tbody>\n",
       "</table>\n",
       "<p>1 rows × 90 columns</p>\n",
       "</div>"
      ],
      "text/plain": [
       "      code name0   mbrg0   nprg0     nav0   targ0    epsg0     seg0 name1  \\\n",
       "32  002078  太阳纸业  4.6736  44.983  23.9247  4.7251  44.4444  28.9797  太阳纸业   \n",
       "\n",
       "     mbrg1  ...   eps4  eps_yoy4  bvps4  roe4  epcf4 net_profits4  \\\n",
       "32 -4.0129  ...    NaN       NaN    NaN   NaN    NaN          NaN   \n",
       "\n",
       "    profits_yoy4  distrib4  report_date4   eps  \n",
       "32           NaN       NaN           NaN  0.42  \n",
       "\n",
       "[1 rows x 90 columns]"
      ]
     },
     "execution_count": 103,
     "metadata": {},
     "output_type": "execute_result"
    }
   ],
   "source": [
    "stockGDF[stockGDF.code == '002078']"
   ]
  },
  {
   "cell_type": "code",
   "execution_count": 104,
   "metadata": {
    "collapsed": true
   },
   "outputs": [],
   "source": [
    "stockGDF['nprg'] = stockGDF.apply(lambda x: x['nprg3'] if pd.isnull(x['nprg4']) else x['nprg4'], axis=1)"
   ]
  },
  {
   "cell_type": "code",
   "execution_count": 105,
   "metadata": {
    "collapsed": true
   },
   "outputs": [],
   "source": [
    "df_basics = ts.get_stock_basics().drop(['name'], axis=1)\n",
    "stockGDF = stockGDF.merge(df_basics, left_on='code', right_index=True)"
   ]
  },
  {
   "cell_type": "code",
   "execution_count": 106,
   "metadata": {
    "collapsed": true
   },
   "outputs": [],
   "source": [
    "\n",
    "stockGDF['peg'] = round(stockGDF['pe']/stockGDF['nprg'],2)"
   ]
  },
  {
   "cell_type": "code",
   "execution_count": 107,
   "metadata": {},
   "outputs": [
    {
     "data": {
      "text/html": [
       "<div>\n",
       "<style>\n",
       "    .dataframe thead tr:only-child th {\n",
       "        text-align: right;\n",
       "    }\n",
       "\n",
       "    .dataframe thead th {\n",
       "        text-align: left;\n",
       "    }\n",
       "\n",
       "    .dataframe tbody tr th {\n",
       "        vertical-align: top;\n",
       "    }\n",
       "</style>\n",
       "<table border=\"1\" class=\"dataframe\">\n",
       "  <thead>\n",
       "    <tr style=\"text-align: right;\">\n",
       "      <th></th>\n",
       "      <th>code</th>\n",
       "      <th>name</th>\n",
       "      <th>peg</th>\n",
       "      <th>pe</th>\n",
       "      <th>eps</th>\n",
       "      <th>nprg</th>\n",
       "      <th>price_real</th>\n",
       "      <th>nprg0</th>\n",
       "      <th>nprg1</th>\n",
       "      <th>nprg2</th>\n",
       "      <th>nprg3</th>\n",
       "      <th>nprg4</th>\n",
       "    </tr>\n",
       "  </thead>\n",
       "  <tbody>\n",
       "    <tr>\n",
       "      <th>6</th>\n",
       "      <td>600816</td>\n",
       "      <td>安信信托</td>\n",
       "      <td>0.21</td>\n",
       "      <td>15.69</td>\n",
       "      <td>1.71</td>\n",
       "      <td>76.1722</td>\n",
       "      <td>12.97</td>\n",
       "      <td>172.7590</td>\n",
       "      <td>266.0663</td>\n",
       "      <td>68.2561</td>\n",
       "      <td>76.1722</td>\n",
       "      <td>NaN</td>\n",
       "    </tr>\n",
       "    <tr>\n",
       "      <th>10</th>\n",
       "      <td>002019</td>\n",
       "      <td>亿帆医药</td>\n",
       "      <td>0.25</td>\n",
       "      <td>22.40</td>\n",
       "      <td>NaN</td>\n",
       "      <td>88.8034</td>\n",
       "      <td>21.69</td>\n",
       "      <td>126.2480</td>\n",
       "      <td>829.1151</td>\n",
       "      <td>52.1242</td>\n",
       "      <td>88.8034</td>\n",
       "      <td>NaN</td>\n",
       "    </tr>\n",
       "    <tr>\n",
       "      <th>22</th>\n",
       "      <td>300237</td>\n",
       "      <td>美晨生态</td>\n",
       "      <td>0.22</td>\n",
       "      <td>25.51</td>\n",
       "      <td>NaN</td>\n",
       "      <td>115.0827</td>\n",
       "      <td>15.46</td>\n",
       "      <td>61.6673</td>\n",
       "      <td>237.5191</td>\n",
       "      <td>106.3751</td>\n",
       "      <td>115.0827</td>\n",
       "      <td>NaN</td>\n",
       "    </tr>\n",
       "    <tr>\n",
       "      <th>24</th>\n",
       "      <td>002841</td>\n",
       "      <td>视源股份</td>\n",
       "      <td>0.32</td>\n",
       "      <td>34.65</td>\n",
       "      <td>2.04</td>\n",
       "      <td>109.2521</td>\n",
       "      <td>67.80</td>\n",
       "      <td>57.5867</td>\n",
       "      <td>37.6380</td>\n",
       "      <td>56.9934</td>\n",
       "      <td>109.2521</td>\n",
       "      <td>NaN</td>\n",
       "    </tr>\n",
       "    <tr>\n",
       "      <th>30</th>\n",
       "      <td>300253</td>\n",
       "      <td>卫宁健康</td>\n",
       "      <td>0.31</td>\n",
       "      <td>69.84</td>\n",
       "      <td>NaN</td>\n",
       "      <td>225.3914</td>\n",
       "      <td>7.74</td>\n",
       "      <td>49.4068</td>\n",
       "      <td>56.4341</td>\n",
       "      <td>31.6772</td>\n",
       "      <td>225.3914</td>\n",
       "      <td>NaN</td>\n",
       "    </tr>\n",
       "    <tr>\n",
       "      <th>32</th>\n",
       "      <td>002078</td>\n",
       "      <td>太阳纸业</td>\n",
       "      <td>0.31</td>\n",
       "      <td>16.55</td>\n",
       "      <td>0.42</td>\n",
       "      <td>53.3837</td>\n",
       "      <td>11.70</td>\n",
       "      <td>44.9830</td>\n",
       "      <td>72.0237</td>\n",
       "      <td>38.0570</td>\n",
       "      <td>53.3837</td>\n",
       "      <td>NaN</td>\n",
       "    </tr>\n",
       "    <tr>\n",
       "      <th>40</th>\n",
       "      <td>300296</td>\n",
       "      <td>利亚德</td>\n",
       "      <td>0.38</td>\n",
       "      <td>38.57</td>\n",
       "      <td>0.87</td>\n",
       "      <td>100.6575</td>\n",
       "      <td>20.00</td>\n",
       "      <td>37.8114</td>\n",
       "      <td>104.1679</td>\n",
       "      <td>102.7194</td>\n",
       "      <td>100.6575</td>\n",
       "      <td>NaN</td>\n",
       "    </tr>\n",
       "    <tr>\n",
       "      <th>43</th>\n",
       "      <td>300121</td>\n",
       "      <td>阳谷华泰</td>\n",
       "      <td>0.08</td>\n",
       "      <td>22.55</td>\n",
       "      <td>0.56</td>\n",
       "      <td>298.7958</td>\n",
       "      <td>13.30</td>\n",
       "      <td>34.3584</td>\n",
       "      <td>71.0576</td>\n",
       "      <td>45.7954</td>\n",
       "      <td>298.7958</td>\n",
       "      <td>NaN</td>\n",
       "    </tr>\n",
       "    <tr>\n",
       "      <th>45</th>\n",
       "      <td>300182</td>\n",
       "      <td>捷成股份</td>\n",
       "      <td>0.29</td>\n",
       "      <td>25.02</td>\n",
       "      <td>0.39</td>\n",
       "      <td>85.3874</td>\n",
       "      <td>9.99</td>\n",
       "      <td>33.3725</td>\n",
       "      <td>27.2774</td>\n",
       "      <td>102.7172</td>\n",
       "      <td>85.3874</td>\n",
       "      <td>NaN</td>\n",
       "    </tr>\n",
       "    <tr>\n",
       "      <th>46</th>\n",
       "      <td>002589</td>\n",
       "      <td>瑞康医药</td>\n",
       "      <td>0.11</td>\n",
       "      <td>20.39</td>\n",
       "      <td>1.01</td>\n",
       "      <td>177.6553</td>\n",
       "      <td>13.05</td>\n",
       "      <td>30.3360</td>\n",
       "      <td>26.0113</td>\n",
       "      <td>33.7655</td>\n",
       "      <td>177.6553</td>\n",
       "      <td>NaN</td>\n",
       "    </tr>\n",
       "    <tr>\n",
       "      <th>52</th>\n",
       "      <td>300267</td>\n",
       "      <td>尔康制药</td>\n",
       "      <td>0.28</td>\n",
       "      <td>19.32</td>\n",
       "      <td>0.50</td>\n",
       "      <td>69.0750</td>\n",
       "      <td>6.93</td>\n",
       "      <td>26.5540</td>\n",
       "      <td>48.3849</td>\n",
       "      <td>108.4068</td>\n",
       "      <td>69.0750</td>\n",
       "      <td>NaN</td>\n",
       "    </tr>\n",
       "  </tbody>\n",
       "</table>\n",
       "</div>"
      ],
      "text/plain": [
       "      code  name   peg     pe   eps      nprg  price_real     nprg0     nprg1  \\\n",
       "6   600816  安信信托  0.21  15.69  1.71   76.1722       12.97  172.7590  266.0663   \n",
       "10  002019  亿帆医药  0.25  22.40   NaN   88.8034       21.69  126.2480  829.1151   \n",
       "22  300237  美晨生态  0.22  25.51   NaN  115.0827       15.46   61.6673  237.5191   \n",
       "24  002841  视源股份  0.32  34.65  2.04  109.2521       67.80   57.5867   37.6380   \n",
       "30  300253  卫宁健康  0.31  69.84   NaN  225.3914        7.74   49.4068   56.4341   \n",
       "32  002078  太阳纸业  0.31  16.55  0.42   53.3837       11.70   44.9830   72.0237   \n",
       "40  300296   利亚德  0.38  38.57  0.87  100.6575       20.00   37.8114  104.1679   \n",
       "43  300121  阳谷华泰  0.08  22.55  0.56  298.7958       13.30   34.3584   71.0576   \n",
       "45  300182  捷成股份  0.29  25.02  0.39   85.3874        9.99   33.3725   27.2774   \n",
       "46  002589  瑞康医药  0.11  20.39  1.01  177.6553       13.05   30.3360   26.0113   \n",
       "52  300267  尔康制药  0.28  19.32  0.50   69.0750        6.93   26.5540   48.3849   \n",
       "\n",
       "       nprg2     nprg3  nprg4  \n",
       "6    68.2561   76.1722    NaN  \n",
       "10   52.1242   88.8034    NaN  \n",
       "22  106.3751  115.0827    NaN  \n",
       "24   56.9934  109.2521    NaN  \n",
       "30   31.6772  225.3914    NaN  \n",
       "32   38.0570   53.3837    NaN  \n",
       "40  102.7194  100.6575    NaN  \n",
       "43   45.7954  298.7958    NaN  \n",
       "45  102.7172   85.3874    NaN  \n",
       "46   33.7655  177.6553    NaN  \n",
       "52  108.4068   69.0750    NaN  "
      ]
     },
     "execution_count": 107,
     "metadata": {},
     "output_type": "execute_result"
    }
   ],
   "source": [
    "stockGDF[['code', 'name','peg', 'pe', 'eps', 'nprg', 'price_real'] + ['nprg'+str(i) for i in range(5)]][stockGDF.peg < 0.4]"
   ]
  },
  {
   "cell_type": "code",
   "execution_count": null,
   "metadata": {
    "collapsed": true
   },
   "outputs": [],
   "source": []
  },
  {
   "cell_type": "code",
   "execution_count": null,
   "metadata": {
    "collapsed": true
   },
   "outputs": [],
   "source": []
  }
 ],
 "metadata": {
  "kernelspec": {
   "display_name": "Python 3",
   "language": "python",
   "name": "python3"
  },
  "language_info": {
   "codemirror_mode": {
    "name": "ipython",
    "version": 3
   },
   "file_extension": ".py",
   "mimetype": "text/x-python",
   "name": "python",
   "nbconvert_exporter": "python",
   "pygments_lexer": "ipython3",
   "version": "3.6.3"
  }
 },
 "nbformat": 4,
 "nbformat_minor": 2
}
